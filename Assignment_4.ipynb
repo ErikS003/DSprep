{
 "cells": [
  {
   "cell_type": "markdown",
   "id": "e9959f48",
   "metadata": {
    "deletable": false
   },
   "source": [
    "\n",
    "# Assignment 4 for Course 1MS041\n",
    "Make sure you pass the `# ... Test` cells and\n",
    " submit your solution notebook in the corresponding assignment on the course website. You can submit multiple times before the deadline and your highest score will be used."
   ]
  },
  {
   "cell_type": "markdown",
   "id": "b63d8b71",
   "metadata": {
    "deletable": false,
    "lx_assignment_number": "4",
    "lx_assignment_type": "ASSIGNMENT",
    "lx_assignment_type2print": "Assignment",
    "lx_problem_cell_type": "PROBLEM",
    "lx_problem_number": "1",
    "lx_problem_points": "24"
   },
   "source": [
    "---\n",
    "## Assignment 4, PROBLEM 1\n",
    "Maximum Points = 24"
   ]
  },
  {
   "cell_type": "markdown",
   "id": "04e1585d",
   "metadata": {
    "deletable": false,
    "lx_assignment_number": "4",
    "lx_assignment_type": "ASSIGNMENT",
    "lx_assignment_type2print": "Assignment",
    "lx_problem_cell_type": "PROBLEM",
    "lx_problem_number": "1",
    "lx_problem_points": "24"
   },
   "source": [
    "\n",
    "    This time the assignment only consists of one problem, but we will do a more comprehensive analysis instead.\n",
    "\n",
    "Consider the dataset `Corona_NLP_train.csv` that you can get from the course website [git](https://github.com/datascience-intro/1MS041-2024/blob/main/notebooks/data/Corona_NLP_train.csv). The data is \"Coronavirus tweets NLP - Text Classification\" that can be found on [kaggle](https://www.kaggle.com/datasets/datatattle/covid-19-nlp-text-classification). The data has several columns, but we will only be working with `OriginalTweet`and `Sentiment`.\n",
    "\n",
    "1. [3p] Load the data and filter out those tweets that have `Sentiment`=`Neutral`. Let $X$ represent the `OriginalTweet` and let \n",
    "    $$\n",
    "        Y = \n",
    "        \\begin{cases}\n",
    "        1 & \\text{if sentiment is towards positive}\n",
    "        \\\\\n",
    "        0 & \\text{if sentiment is towards negative}.\n",
    "        \\end{cases}\n",
    "    $$\n",
    "    Put the resulting arrays into the variables $X$ and $Y$. Split the data into three parts, train/test/validation where train is 60% of the data, test is 15% and validation is 25% of the data. Do not do this randomly, this is to make sure that we all did the same splits (we are in this case assuming the data is IID as presented in the dataset). That is [train,test,validation] is the splitting layout.\n",
    "\n",
    "2. [4p] There are many ways to solve this classification problem. The first main issue to resolve is to convert the $X$ variable to something that you can feed into a machine learning model. For instance, you can first use [`CountVectorizer`](https://scikit-learn.org/1.5/modules/generated/sklearn.feature_extraction.text.CountVectorizer.html) as the first step. The step that comes after should be a `LogisticRegression` model, but for this to work you need to put together the `CountVectorizer` and the `LogisticRegression` model into a [`Pipeline`](https://scikit-learn.org/1.5/modules/generated/sklearn.pipeline.Pipeline.html#sklearn.pipeline.Pipeline). Fill in the variable `model` such that it accepts the raw text as input and outputs a number $0$ or $1$, make sure that `model.predict_proba` works for this. **Hint: You might need to play with the parameters of LogisticRegression to get convergence, make sure that it doesn't take too long or the autograder might kill your code**\n",
    "3. [3p] Use your trained model and calculate the precision and recall on both classes. Fill in the corresponding variables with the answer.\n",
    "4. [3p] Let us now define a cost function\n",
    "    * A positive tweet that is classified as negative will have a cost of 1\n",
    "    * A negative tweet that is classified as positive will have a cost of 5\n",
    "    * Correct classifications cost 0\n",
    "    \n",
    "    complete filling the function `cost` to compute the cost of a prediction model under a certain prediction threshold (recall our precision recall lecture and the `predict_proba` function from trained models). \n",
    "\n",
    "5. [4p] Now, we wish to select the threshold of our classifier that minimizes the cost, fill in the selected threshold value in value `optimal_threshold`.\n",
    "6. [4p] With your newly computed threshold value, compute the cost of putting this model in production by computing the cost using the validation data. Also provide a confidence interval of the cost using Hoeffdings inequality with a 99% confidence.\n",
    "7. [3p] Let $t$ be the threshold you found and $f$ the model you fitted (one of the outputs of `predict_proba`), if we define the random variable\n",
    "    $$\n",
    "        C = (1-1_{f(X)\\geq t})Y+5(1-Y)1_{f(X) \\geq t}\n",
    "    $$\n",
    "    then $C$ denotes the cost of a randomly chosen tweet. In the previous step we estimated $\\mathbb{E}[C]$ using the empirical mean. However, since the threshold is chosen to minimize cost it is likely that $C=0$ or $C=1$ than $C=5$ as such it will have a low variance. Compute the empirical variance of $C$ on the validation set. What would be the confidence interval if we used Bennett's inequality instead of Hoeffding in point 6 but with the computed empirical variance as our guess for the variance?"
   ]
  },
  {
   "cell_type": "code",
   "execution_count": null,
   "id": "b7068a84",
   "metadata": {},
   "outputs": [],
   "source": []
  },
  {
   "cell_type": "code",
   "execution_count": 41,
   "id": "49e6fa33",
   "metadata": {
    "deletable": false,
    "lx_assignment_number": "4",
    "lx_assignment_type": "ASSIGNMENT",
    "lx_assignment_type2print": "Assignment",
    "lx_problem_cell_type": "PROBLEM",
    "lx_problem_number": "1",
    "lx_problem_points": "24"
   },
   "outputs": [
    {
     "name": "stdout",
     "output_type": "stream",
     "text": [
      "(41157, 6)\n",
      "(33444,)\n"
     ]
    }
   ],
   "source": [
    "\n",
    "# Part 1\n",
    "import pandas as pd\n",
    "import numpy as np\n",
    "import sklearn as skl\n",
    "from sklearn.model_selection import train_test_split\n",
    "\n",
    "# Load the data from the file specified in the problem definition and make sure that it is loaded using\n",
    "# the search path `data/Corona_NLP_train.csv`. This is to make sure the autograder and your computer have the same\n",
    "# file path and can load the data correctly.\n",
    "path = 'Corona_NLP_train.csv'\n",
    "df = pd.read_csv(path,encoding=\"latin-1\")\n",
    "print(df.shape)\n",
    "# Contrary to how many other problems are structured, this problem actually requires you to\n",
    "# have X on the shape (n_samples, ) that is a 1-dimensional array. Otherwise it will cause a bunch\n",
    "# of errors in the autograder or also in for instance CountVectorizer.\n",
    "# Make sure that all your data is numpy arrays and not pandas dataframes or series.\n",
    "cleaned = df[df[\"Sentiment\"] != 'Neutral']\n",
    "Y= cleaned[\"Sentiment\"]\n",
    "Y = Y.map({\"Positive\":1,\"Negative\":0, \"Extremely Negative\":0, \"Extremely Positive\":1})\n",
    "X = cleaned.drop(columns=\"Sentiment\")[\"OriginalTweet\"]\n",
    "print(X.shape)\n",
    "N = len(X)\n",
    "train_end = int(0.60 * N)     # 60% of data\n",
    "test_end = train_end + int(0.15 * N)  # next 15% of data\n",
    "\n",
    "X_train, Y_train = X[:train_end], Y[:train_end]\n",
    "X_test,  Y_test  = X[train_end:test_end],  Y[train_end:test_end]\n",
    "X_val,   Y_val   = X[test_end:], Y[test_end:]\n"
   ]
  },
  {
   "cell_type": "code",
   "execution_count": 42,
   "id": "078fe203",
   "metadata": {
    "deletable": false,
    "lx_assignment_number": "4",
    "lx_assignment_type": "ASSIGNMENT",
    "lx_assignment_type2print": "Assignment",
    "lx_problem_cell_type": "PROBLEM",
    "lx_problem_number": "1",
    "lx_problem_points": "24"
   },
   "outputs": [
    {
     "name": "stdout",
     "output_type": "stream",
     "text": [
      "first predicted probabilities:  [0.87757459 0.12242541]\n",
      "precision: 0.8708971553610503\n",
      "recall: 0.8808557727775729\n"
     ]
    }
   ],
   "source": [
    "\n",
    "# Part 2\n",
    "\n",
    "# Train a machine learning model or pipeline that can take the raw strings from X and predict Y=0,1 depending on the\n",
    "# sentiment of the tweet. Store the trained model in the variable `model`.\n",
    "from sklearn.feature_extraction.text import CountVectorizer\n",
    "from sklearn.linear_model import LogisticRegression\n",
    "from sklearn.metrics import precision_score, recall_score\n",
    "from sklearn.feature_extraction.text import CountVectorizer\n",
    "from sklearn.linear_model import LogisticRegression\n",
    "from sklearn.pipeline import Pipeline\n",
    "\n",
    "model = Pipeline([\n",
    "    (\"vectorizer\", CountVectorizer()), \n",
    "    (\"classifier\", LogisticRegression(max_iter=1000, solver='liblinear'))\n",
    "])\n",
    "\n",
    "model.fit(X_train, Y_train)\n",
    "\n",
    "from sklearn.metrics import accuracy_score, classification_report\n",
    "Y_pred = model.predict(X_test)\n",
    "pred_proba = model.predict_proba(X_test)\n",
    "print(\"first predicted probabilities: \", pred_proba[0])\n",
    "# Evaluate\n",
    "print(\"precision:\", precision_score(Y_test, Y_pred))\n",
    "print(\"recall:\", recall_score(Y_test, Y_pred))\n",
    "\n",
    "#print(classification_report(Y_test, Y_pred))\n"
   ]
  },
  {
   "cell_type": "code",
   "execution_count": 43,
   "id": "ec6fd1d4",
   "metadata": {
    "deletable": false,
    "lx_assignment_number": "4",
    "lx_assignment_type": "ASSIGNMENT",
    "lx_assignment_type2print": "Assignment",
    "lx_problem_cell_type": "PROBLEM",
    "lx_problem_number": "1",
    "lx_problem_points": "24"
   },
   "outputs": [],
   "source": [
    "\n",
    "# Part 3\n",
    "\n",
    "# Evaluate the model on the test set and calculate precision, and recall on both classes. Store the results in the\n",
    "# variables `precision_0`, `precision_1`, `recall_0`, `recall_1`.\n",
    "\n",
    "precision_1 = precision_score(Y_test, Y_pred, pos_label=1)\n",
    "recall_1 = recall_score(Y_test, Y_pred, pos_label=1)\n",
    "\n",
    "# Negative (label=0)\n",
    "precision_0 = precision_score(Y_test, Y_pred, pos_label=0)\n",
    "recall_0 = recall_score(Y_test, Y_pred, pos_label=0)"
   ]
  },
  {
   "cell_type": "code",
   "execution_count": 44,
   "id": "2f0debf6",
   "metadata": {},
   "outputs": [
    {
     "name": "stdout",
     "output_type": "stream",
     "text": [
      "[0.41726475279106856, array([0, 0, 0, ..., 0, 0, 0])]\n"
     ]
    }
   ],
   "source": [
    "# Part 4\n",
    "\n",
    "def cost(model,threshold,X,Y):\n",
    "    prob_pos = model.predict_proba(X)[:, 1]\n",
    "\n",
    "    # 2. Predict 1 if prob >= threshold, else 0\n",
    "    Y_pred = (prob_pos >= threshold).astype(int)\n",
    "\n",
    "    # 3. Compute the cost\n",
    "    #    cost = 1 if Y=1 and Y_pred=0\n",
    "    #          = 5 if Y=0 and Y_pred=1\n",
    "    #          = 0 otherwise\n",
    "    cost_array = np.where((Y == 1) & (Y_pred == 0), 1,\n",
    "                 np.where((Y == 0) & (Y_pred == 1), 5, 0))\n",
    "\n",
    "    # 4. Return average cost\n",
    "        \n",
    "    # Hint, make sure that the model has a predict_proba method\n",
    "    # think about how the decision is made based on the probabilities\n",
    "    # and how the threshold can be used to make the decision.\n",
    "    # For reference take a look at the lecture notes \"Bayes classifier\"\n",
    "    # which contains how the decision is made based on the probabilities when the threshold is 0.5.\n",
    "    \n",
    "    # Fill in what is missing to compute the cost and return it\n",
    "    # Note that we are interested in average cost\n",
    "    \n",
    "    return [cost_array.mean(), cost_array]\n",
    "\n",
    "print(cost(model,0.5,X_test,Y_test))"
   ]
  },
  {
   "cell_type": "markdown",
   "id": "10698374",
   "metadata": {
    "deletable": false,
    "lx_assignment_number": "4",
    "lx_assignment_type": "ASSIGNMENT",
    "lx_assignment_type2print": "Assignment",
    "lx_problem_cell_type": "PROBLEM",
    "lx_problem_number": "1",
    "lx_problem_points": "24"
   },
   "source": []
  },
  {
   "cell_type": "code",
   "execution_count": 45,
   "id": "b21963ec",
   "metadata": {
    "deletable": false,
    "lx_assignment_number": "4",
    "lx_assignment_type": "ASSIGNMENT",
    "lx_assignment_type2print": "Assignment",
    "lx_problem_cell_type": "PROBLEM",
    "lx_problem_number": "1",
    "lx_problem_points": "24"
   },
   "outputs": [
    {
     "name": "stdout",
     "output_type": "stream",
     "text": [
      "Best threshold: 0.8\n",
      "Best cost on validation set: 0.2727272727272727\n"
     ]
    }
   ],
   "source": [
    "\n",
    "# Part 5\n",
    "import numpy as np\n",
    "\n",
    "threshold_grid = np.linspace(0, 1, 101)\n",
    "\n",
    "optimal_threshold = None\n",
    "best_cost = float(\"inf\")\n",
    "\n",
    "for thr in threshold_grid:\n",
    "    c = cost(model, thr, X_test, Y_test)[0]\n",
    "    if c < best_cost:\n",
    "        best_cost = c\n",
    "        best_threshold = thr\n",
    "\n",
    "print(\"Best threshold:\", best_threshold)\n",
    "print(\"Best cost on validation set:\", best_cost)\n",
    "\n",
    "# Find the optimal threshold for the model on the test set. Store the threshold in the variable `optimal_threshold`\n",
    "# and the cost at the optimal threshold in the variable `cost_at_optimal_threshold` evaluated on the test set.\n",
    "cost_at_optimal_threshold = best_cost"
   ]
  },
  {
   "cell_type": "code",
   "execution_count": 52,
   "id": "79a1c5e6",
   "metadata": {
    "deletable": false,
    "lx_assignment_number": "4",
    "lx_assignment_type": "ASSIGNMENT",
    "lx_assignment_type2print": "Assignment",
    "lx_problem_cell_type": "PROBLEM",
    "lx_problem_number": "1",
    "lx_problem_points": "24"
   },
   "outputs": [
    {
     "name": "stdout",
     "output_type": "stream",
     "text": [
      "0.5715139918679741\n",
      "(0.48251831524798433, 0.660509668487964)\n"
     ]
    }
   ],
   "source": [
    "#we have that the cost is our empirical mean (mu^), we want to bound the probability of the difference between mu^ and E(c_i) (expected cost).\n",
    "# by hoeffdings: P(abs(mu^-E(c_i))>=t)<=2e^(-2nt/(b-a)^2) where a=0 and b=5 in this case, since each 0<=c_i<=5\n",
    "# we want P(abs(mu^-E(c_i))>=t)<=0.01 (99% confidence). doing some algebra we get:\n",
    "n=len(Y_val)\n",
    "t=np.sqrt(25*np.log(1/0.005)/(2*n))\n",
    "cost_at_optimal_threshold_valid = cost(model,thr,X_val,Y_val)[0]\n",
    "cost_interval_valid = (cost_at_optimal_threshold_valid-t,cost_at_optimal_threshold_valid+t)\n",
    "print(cost_at_optimal_threshold_valid)\n",
    "print(cost_interval_valid)\n",
    "assert(type(cost_interval_valid) == tuple)\n",
    "assert(len(cost_interval_valid) == 2)"
   ]
  },
  {
   "cell_type": "code",
   "execution_count": 50,
   "id": "e3bc0760",
   "metadata": {
    "deletable": false,
    "lx_assignment_number": "4",
    "lx_assignment_type": "ASSIGNMENT",
    "lx_assignment_type2print": "Assignment",
    "lx_problem_cell_type": "PROBLEM",
    "lx_problem_number": "1",
    "lx_problem_points": "24"
   },
   "outputs": [
    {
     "name": "stdout",
     "output_type": "stream",
     "text": [
      "(0.5697494997563364, 0.5732784839796119)\n"
     ]
    }
   ],
   "source": [
    "\n",
    "# Part 7\n",
    "import numpy as np\n",
    "from math import log\n",
    "\n",
    "def b_function(u, c):\n",
    "    # b(u,c) = (1 + c*u)*log(1 + c*u) - c*u\n",
    "    return (1 + c*u) * np.log(1 + c*u) - c*u\n",
    "\n",
    "def bennett_Q(t, n, sigma, alpha=0.01, b_max=5):\n",
    "    \"\"\"\n",
    "    Two-sided 'exceedance' function for Bennett:\n",
    "      Q(t) = P(|X_bar - mu| >= t)\n",
    "    We'll find t s.t. Q(t) = alpha.\n",
    "    \"\"\"\n",
    "    u = t / (sigma**2 + 1e-15)  # avoid /0\n",
    "    c = b_max / (sigma + 1e-15)\n",
    "    exponent = - n * (sigma**2) * b_function(u, c)\n",
    "    return 2 * np.exp(exponent)  # two-sided => multiply by 2\n",
    "\n",
    "def find_t_bennett(n, sigma, alpha=0.01, b_max=5):\n",
    "    \"\"\"Search for t >= 0 s.t. bennett_Q(t)=alpha.\"\"\"\n",
    "    # We'll do a simple binary search in [0, b_max].\n",
    "    # The maximum cost is 5, so the mean can't exceed 5, but we give some margin:\n",
    "    left, right = 0.0, 5.0\n",
    "    for _ in range(50):  # 50 iterations is plenty\n",
    "        mid = 0.5 * (left + right)\n",
    "        if bennett_Q(mid, n, sigma, alpha=alpha, b_max=b_max) > alpha:\n",
    "            left = mid\n",
    "        else:\n",
    "            right = mid\n",
    "    return 0.5 * (left + right)\n",
    "\n",
    "n_val = len(Y_val)\n",
    "\n",
    "hat_mu = cost_at_optimal_threshold_valid\n",
    "hat_sigma = cost(model,thr,X_val,Y_val)[1].std(ddof=1)\n",
    "alpha = 0.01  # 99% CI\n",
    "t_star = find_t_bennett(n_val, hat_sigma, alpha=alpha, b_max=5)\n",
    "variance_of_C = hat_sigma\n",
    "interval_of_C = (hat_mu-t_star,hat_mu+t_star)\n",
    "print(interval_of_C)\n",
    "assert(type(interval_of_C) == tuple)\n",
    "assert(len(interval_of_C) == 2)\n"
   ]
  }
 ],
 "metadata": {
  "kernelspec": {
   "display_name": "base",
   "language": "python",
   "name": "python3"
  },
  "language_info": {
   "codemirror_mode": {
    "name": "ipython",
    "version": 3
   },
   "file_extension": ".py",
   "mimetype": "text/x-python",
   "name": "python",
   "nbconvert_exporter": "python",
   "pygments_lexer": "ipython3",
   "version": "3.11.4"
  },
  "lx_assignment_number": 4,
  "lx_course_instance": "2024",
  "lx_course_name": "Introduction to Data Science",
  "lx_course_number": "1MS041"
 },
 "nbformat": 4,
 "nbformat_minor": 5
}
